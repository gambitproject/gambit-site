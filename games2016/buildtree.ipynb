{
 "cells": [
  {
   "cell_type": "markdown",
   "metadata": {},
   "source": [
    "<h1>Building game trees</h1>\n",
    "<i>Theodore L. Turocy</i><br/>\n",
    "<i>University of East Anglia</i>\n",
    "<br/><br/>\n",
    "<h3>EC'16 Workshop\n",
    "24 July 2016</h3>"
   ]
  },
  {
   "cell_type": "code",
   "execution_count": 1,
   "metadata": {
    "collapsed": true
   },
   "outputs": [],
   "source": [
    "import gambit"
   ]
  },
  {
   "cell_type": "markdown",
   "metadata": {},
   "source": [
    "One can build up extensive games from scratch and manipulate them.  This example shows one way to do that for the simple one-card poker game.\n",
    "\n",
    "The primitives for doing this remain rather low-level, as I have never settled on a good way to write higher-level ones that apply broadly.  It has always seemed to me that different games have different \"natural\" ways to build them out.  It is nevertheless likely that having some more powerful idioms could be useful - suggestions are welcomed."
   ]
  },
  {
   "cell_type": "code",
   "execution_count": 2,
   "metadata": {
    "collapsed": true
   },
   "outputs": [],
   "source": [
    "g = gambit.Game.new_tree()\n",
    "g.title = \"A simple poker example\""
   ]
  },
  {
   "cell_type": "markdown",
   "metadata": {},
   "source": [
    "Define the players; save them as variables for convenience laster."
   ]
  },
  {
   "cell_type": "code",
   "execution_count": 3,
   "metadata": {
    "collapsed": false
   },
   "outputs": [],
   "source": [
    "alice = g.players.add(\"Alice\")"
   ]
  },
  {
   "cell_type": "code",
   "execution_count": 4,
   "metadata": {
    "collapsed": false
   },
   "outputs": [],
   "source": [
    "bob = g.players.add(\"Bob\")"
   ]
  },
  {
   "cell_type": "markdown",
   "metadata": {},
   "source": [
    "The root node is a chance move, between Ace and King.  Chance moves default to uniform randomisation, but I set the probabilities here anyway just for explicitness."
   ]
  },
  {
   "cell_type": "code",
   "execution_count": 5,
   "metadata": {
    "collapsed": true
   },
   "outputs": [],
   "source": [
    "move = g.root.append_move(g.players.chance, 2)"
   ]
  },
  {
   "cell_type": "code",
   "execution_count": 6,
   "metadata": {
    "collapsed": true
   },
   "outputs": [],
   "source": [
    "move.actions[0].label = \"A\"\n",
    "move.actions[0].prob = gambit.Rational(1, 2)\n",
    "move.actions[1].label = \"K\"\n",
    "move.actions[1].prob = gambit.Rational(1, 2)"
   ]
  },
  {
   "cell_type": "markdown",
   "metadata": {},
   "source": [
    "After an Ace, Alice can Raise or Fold."
   ]
  },
  {
   "cell_type": "code",
   "execution_count": 7,
   "metadata": {
    "collapsed": false
   },
   "outputs": [],
   "source": [
    "move = g.root.children[0].append_move(alice, 2)\n",
    "move.label = 'a'\n",
    "move.actions[0].label = \"R\"\n",
    "move.actions[1].label = \"F\""
   ]
  },
  {
   "cell_type": "markdown",
   "metadata": {},
   "source": [
    "She can also Raise or Fold after the King.  Calling `append_move` with the player, rather than the previously created move, creates a new information set for Alice."
   ]
  },
  {
   "cell_type": "code",
   "execution_count": 8,
   "metadata": {
    "collapsed": true
   },
   "outputs": [],
   "source": [
    "move = g.root.children[1].append_move(alice, 2)\n",
    "move.label = 'k'\n",
    "move.actions[0].label = \"R\"\n",
    "move.actions[1].label = \"F\""
   ]
  },
  {
   "cell_type": "markdown",
   "metadata": {},
   "source": [
    "After Alice raises with the Ace, Bob can Meet or Pass."
   ]
  },
  {
   "cell_type": "code",
   "execution_count": 9,
   "metadata": {
    "collapsed": false
   },
   "outputs": [],
   "source": [
    "move = g.root.children[0].children[0].append_move(bob, 2)\n",
    "move.label = 'b'\n",
    "move.actions[0].label = \"M\"\n",
    "move.actions[1].label = \"P\""
   ]
  },
  {
   "cell_type": "markdown",
   "metadata": {},
   "source": [
    "Likewise after Alice raises with the King.  Using the same `move` here adds the move to the same information set for Bob."
   ]
  },
  {
   "cell_type": "code",
   "execution_count": 10,
   "metadata": {
    "collapsed": false
   },
   "outputs": [
    {
     "data": {
      "text/plain": [
       "<Infoset [0] 'b' for player 'Bob' in game 'A simple poker example'>"
      ]
     },
     "execution_count": 10,
     "metadata": {},
     "output_type": "execute_result"
    }
   ],
   "source": [
    "g.root.children[1].children[0].append_move(move)"
   ]
  },
  {
   "cell_type": "markdown",
   "metadata": {},
   "source": [
    "The game so far, as an .efg file.  We see the tree structure is in place; now to deal with payoffs."
   ]
  },
  {
   "cell_type": "code",
   "execution_count": 11,
   "metadata": {
    "collapsed": false
   },
   "outputs": [
    {
     "data": {
      "text/plain": [
       "EFG 2 R \"A simple poker example\" { \"Alice\" \"Bob\" }\n",
       "\"\"\n",
       "\n",
       "c \"\" 1 \"\" { \"A\" 1/2 \"K\" 1/2 } 0\n",
       "p \"\" 1 1 \"a\" { \"R\" \"F\" } 0\n",
       "p \"\" 2 1 \"b\" { \"M\" \"P\" } 0\n",
       "t \"\" 0\n",
       "t \"\" 0\n",
       "t \"\" 0\n",
       "p \"\" 1 2 \"k\" { \"R\" \"F\" } 0\n",
       "p \"\" 2 1 \"b\" { \"M\" \"P\" } 0\n",
       "t \"\" 0\n",
       "t \"\" 0\n",
       "t \"\" 0"
      ]
     },
     "execution_count": 11,
     "metadata": {},
     "output_type": "execute_result"
    }
   ],
   "source": [
    "g"
   ]
  },
  {
   "cell_type": "code",
   "execution_count": 12,
   "metadata": {
    "collapsed": true
   },
   "outputs": [],
   "source": [
    "alice_big = g.outcomes.add(\"Alice wins big\")\n",
    "alice_big[0] = 2\n",
    "alice_big[1] = -2"
   ]
  },
  {
   "cell_type": "code",
   "execution_count": 13,
   "metadata": {
    "collapsed": true
   },
   "outputs": [],
   "source": [
    "alice_small = g.outcomes.add(\"Alice wins\")\n",
    "alice_small[0] = 1\n",
    "alice_small[1] = -1"
   ]
  },
  {
   "cell_type": "code",
   "execution_count": 14,
   "metadata": {
    "collapsed": true
   },
   "outputs": [],
   "source": [
    "bob_small = g.outcomes.add(\"Bob wins\")\n",
    "bob_small[0] = -1\n",
    "bob_small[1] = 1"
   ]
  },
  {
   "cell_type": "code",
   "execution_count": 15,
   "metadata": {
    "collapsed": true
   },
   "outputs": [],
   "source": [
    "bob_big = g.outcomes.add(\"Bob wins big\")\n",
    "bob_big[0] = -2\n",
    "bob_big[1] = 2"
   ]
  },
  {
   "cell_type": "markdown",
   "metadata": {},
   "source": [
    "Attach the outcomes to the corresponding terminal nodes.  Notice how we can re-use the outcomes to denote that different terminal nodes may correspond to the same logical outcome."
   ]
  },
  {
   "cell_type": "code",
   "execution_count": 16,
   "metadata": {
    "collapsed": false
   },
   "outputs": [],
   "source": [
    "g.root.children[0].children[0].children[0].outcome = alice_big\n",
    "g.root.children[0].children[0].children[1].outcome = alice_small\n",
    "g.root.children[0].children[1].outcome = bob_small"
   ]
  },
  {
   "cell_type": "code",
   "execution_count": 17,
   "metadata": {
    "collapsed": true
   },
   "outputs": [],
   "source": [
    "g.root.children[1].children[0].children[0].outcome = bob_big\n",
    "g.root.children[1].children[0].children[1].outcome = alice_small\n",
    "g.root.children[1].children[1].outcome = bob_small"
   ]
  },
  {
   "cell_type": "markdown",
   "metadata": {},
   "source": [
    "Here's the game we've just built"
   ]
  },
  {
   "cell_type": "code",
   "execution_count": 18,
   "metadata": {
    "collapsed": false
   },
   "outputs": [
    {
     "data": {
      "text/plain": [
       "EFG 2 R \"A simple poker example\" { \"Alice\" \"Bob\" }\n",
       "\"\"\n",
       "\n",
       "c \"\" 1 \"\" { \"A\" 1/2 \"K\" 1/2 } 0\n",
       "p \"\" 1 1 \"a\" { \"R\" \"F\" } 0\n",
       "p \"\" 2 1 \"b\" { \"M\" \"P\" } 0\n",
       "t \"\" 1 \"Alice wins big\" { 2, -2 }\n",
       "t \"\" 2 \"Alice wins\" { 1, -1 }\n",
       "t \"\" 3 \"Bob wins\" { -1, 1 }\n",
       "p \"\" 1 2 \"k\" { \"R\" \"F\" } 0\n",
       "p \"\" 2 1 \"b\" { \"M\" \"P\" } 0\n",
       "t \"\" 4 \"Bob wins big\" { -2, 2 }\n",
       "t \"\" 2 \"Alice wins\" { 1, -1 }\n",
       "t \"\" 3 \"Bob wins\" { -1, 1 }"
      ]
     },
     "execution_count": 18,
     "metadata": {},
     "output_type": "execute_result"
    }
   ],
   "source": [
    "g"
   ]
  },
  {
   "cell_type": "markdown",
   "metadata": {},
   "source": [
    "For comparison, here's the game we started with for the Poker example."
   ]
  },
  {
   "cell_type": "code",
   "execution_count": 19,
   "metadata": {
    "collapsed": false
   },
   "outputs": [
    {
     "data": {
      "text/plain": [
       "EFG 2 R \"A simple poker example\" { \"Alice\" \"Bob\" }\n",
       "\"\"\n",
       "\n",
       "c \"\" 1 \"\" { \"A\" 1/2 \"K\" 1/2 } 0\n",
       "p \"\" 1 1 \"a\" { \"R\" \"F\" } 0\n",
       "p \"\" 2 1 \"b\" { \"M\" \"P\" } 0\n",
       "t \"\" 1 \"Alice wins big\" { 2, -2 }\n",
       "t \"\" 2 \"Alice wins\" { 1, -1 }\n",
       "t \"\" 3 \"Bob wins\" { -1, 1 }\n",
       "p \"\" 1 2 \"k\" { \"R\" \"F\" } 0\n",
       "p \"\" 2 1 \"b\" { \"M\" \"P\" } 0\n",
       "t \"\" 4 \"Bob wins big\" { -2, 2 }\n",
       "t \"\" 2 \"Alice wins\" { 1, -1 }\n",
       "t \"\" 3 \"Bob wins\" { -1, 1 }"
      ]
     },
     "execution_count": 19,
     "metadata": {},
     "output_type": "execute_result"
    }
   ],
   "source": [
    "gambit.Game.read_game(\"poker.efg\")"
   ]
  },
  {
   "cell_type": "markdown",
   "metadata": {},
   "source": [
    "We can confirm they're the same:"
   ]
  },
  {
   "cell_type": "code",
   "execution_count": 20,
   "metadata": {
    "collapsed": false
   },
   "outputs": [
    {
     "data": {
      "text/plain": [
       "True"
      ]
     },
     "execution_count": 20,
     "metadata": {},
     "output_type": "execute_result"
    }
   ],
   "source": [
    "g.write() == gambit.Game.read_game(\"poker.efg\").write()"
   ]
  },
  {
   "cell_type": "code",
   "execution_count": null,
   "metadata": {
    "collapsed": true
   },
   "outputs": [],
   "source": []
  }
 ],
 "metadata": {
  "kernelspec": {
   "display_name": "Python 2",
   "language": "python",
   "name": "python2"
  },
  "language_info": {
   "codemirror_mode": {
    "name": "ipython",
    "version": 2
   },
   "file_extension": ".py",
   "mimetype": "text/x-python",
   "name": "python",
   "nbconvert_exporter": "python",
   "pygments_lexer": "ipython2",
   "version": "2.7.12"
  }
 },
 "nbformat": 4,
 "nbformat_minor": 0
}
