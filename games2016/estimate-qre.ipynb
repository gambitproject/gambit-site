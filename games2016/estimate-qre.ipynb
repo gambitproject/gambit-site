{
 "cells": [
  {
   "cell_type": "markdown",
   "metadata": {},
   "source": [
    "<center>\n",
    "<h1>Doing statistical game theory: (Towards) the missing manual</h1>\n",
    "<i>Theodore L. Turocy</i><br/>\n",
    "<i>University of East Anglia</i>\n",
    "<br/><br/>\n",
    "<h3>EC'16 workshop\n",
    "24 July 2016</h3>\n",
    "</center>\n",
    "\n",
    "<img src=\"https://www.uea.ac.uk/cbess-theme/images/custom/img-cbess-logo.png\"/>\n",
    "<img src=\"http://beta.nottingham.ac.uk/esrc-nibs/images-multimedia/logos/NIBS-logo.png\"/>"
   ]
  },
  {
   "cell_type": "markdown",
   "metadata": {},
   "source": [
    "This is part of a larger project on the practical application of quantal response equilibrium and related concepts of statistical game theory.\n",
    "\n",
    "It is inspired in part by several recent papers by Camerer, Palfrey, and coauthors, developing various generalizations of quantal response equilibrium (including heterogeneous QRE) and links between QRE and cognitive hierarchy/level-k models.\n",
    "\n",
    "These are exciting developments (in the view of this researcher) because this appears to offer a coherent and flexible statistical framework to use as a foundation for behavioural modeling in games, and a data-driven approach to behavioural game theory.\n",
    "\n",
    "What we will do in this talk is to use the facilities in Gambit to explore how to fit QRE to small games.  We'll focus on small games so that all computations can be done live in this Jupyter notebook - making this talk equally a useful practical tutorial, and automatically documenting all the computations done in support of the development of the lines of thought herein."
   ]
  },
  {
   "cell_type": "markdown",
   "metadata": {},
   "source": [
    "**Advertisement**: Thanks to some friends of Gambit at Cardiff (and support from a Google Summer of Code internship), Gambit is being integrated into the SAGE package for computational mathematics in Python (http://www.sagemath.org).  Also as part of this, it will soon be possible to interact with Gambit (alongside all of the mathetmatical tools that SAGE bundles) using notebooks like this one, on a server via your web browser."
   ]
  },
  {
   "cell_type": "markdown",
   "metadata": {},
   "source": [
    "We begin by looking at some of the examples from the original Quantal Response Equilibrium paper:\n",
    "\n",
    "McKelvey, R. D. and Palfrey, T. R. (1995) Quantal response equilibrium for normal form games. *Games and Economic Behavior* **10**: 6-38.\n",
    "\n",
    "We will take the examples slightly out of order, and look first at the non-constant sum game of \"asymmetric\" matching pennies they consider from\n",
    "\n",
    "Ochs, J. (1995) Games with unique mixed strategy equilibria: An experimental study. *Games and Economic Behavior* **10**: 174-189."
   ]
  },
  {
   "cell_type": "code",
   "execution_count": 1,
   "metadata": {
    "collapsed": false
   },
   "outputs": [],
   "source": [
    "import math\n",
    "import numpy\n",
    "import scipy.optimize\n",
    "import pandas\n",
    "import matplotlib.pyplot as plt\n",
    "%matplotlib inline\n",
    "import gambit"
   ]
  },
  {
   "cell_type": "code",
   "execution_count": 2,
   "metadata": {
    "collapsed": false
   },
   "outputs": [
    {
     "data": {
      "text/plain": [
       "'16.0.0'"
      ]
     },
     "execution_count": 2,
     "metadata": {},
     "output_type": "execute_result"
    }
   ],
   "source": [
    "gambit.__version__"
   ]
  },
  {
   "cell_type": "markdown",
   "metadata": {},
   "source": [
    "Set up the payoff matrices. McKPal95 multiply the basic payoff matrix by a factor to translate to 1982 US cents. In addition, the exchange rates for the two players were different in the original experiment, accounting for the different multiplicative factors."
   ]
  },
  {
   "cell_type": "code",
   "execution_count": 3,
   "metadata": {
    "collapsed": false
   },
   "outputs": [
    {
     "data": {
      "text/plain": [
       "(array([[Decimal('1.1140'), Decimal('0.0000')],\n",
       "        [Decimal('0.0000'), Decimal('0.2785')]], dtype=object),\n",
       " array([[Decimal('0.0000'), Decimal('1.1141')],\n",
       "        [Decimal('1.1141'), Decimal('0.0000')]], dtype=object))"
      ]
     },
     "execution_count": 3,
     "metadata": {},
     "output_type": "execute_result"
    }
   ],
   "source": [
    "m1 = numpy.array([[ 4, 0 ], [ 0, 1 ]], dtype=gambit.Decimal) * gambit.Decimal(\"0.2785\")\n",
    "m2 = numpy.array([[ 0, 1 ], [ 1, 0 ]], dtype=gambit.Decimal) * gambit.Decimal(\"1.1141\")   \n",
    "m1, m2"
   ]
  },
  {
   "cell_type": "markdown",
   "metadata": {},
   "source": [
    "Create a Gambit game object from these payoff matrices (`from_arrays` is new in Gambit 15.1.0)"
   ]
  },
  {
   "cell_type": "code",
   "execution_count": 4,
   "metadata": {
    "collapsed": false
   },
   "outputs": [
    {
     "data": {
      "text/plain": [
       "NFG 1 R \"\" { \"1\" \"2\" }\n",
       "\n",
       "{ { \"1\" \"2\" }\n",
       "{ \"1\" \"2\" }\n",
       "}\n",
       "\"\"\n",
       "\n",
       "{\n",
       "{ \"\" 1.1140, 0.0000 }\n",
       "{ \"\" 0.0000, 1.1141 }\n",
       "{ \"\" 0.0000, 1.1141 }\n",
       "{ \"\" 0.2785, 0.0000 }\n",
       "}\n",
       "1 2 3 4 "
      ]
     },
     "execution_count": 4,
     "metadata": {},
     "output_type": "execute_result"
    }
   ],
   "source": [
    "g = gambit.Game.from_arrays(m1, m2)\n",
    "g"
   ]
  },
  {
   "cell_type": "markdown",
   "metadata": {},
   "source": [
    "First, we can verify there is a unique mixed strategy equilibrium.  Player 1 should randomize equally between his strategies; player 2 should play his second strategy with probability 4/5.  It is the \"own-payoff\" effect to Player 1 which made QRE of interest in this game."
   ]
  },
  {
   "cell_type": "code",
   "execution_count": 5,
   "metadata": {
    "collapsed": false
   },
   "outputs": [
    {
     "data": {
      "text/plain": [
       "[[[Fraction(1, 2), Fraction(1, 2)], [Fraction(1, 5), Fraction(4, 5)]]]"
      ]
     },
     "execution_count": 5,
     "metadata": {},
     "output_type": "execute_result"
    }
   ],
   "source": [
    "gambit.nash.enummixed_solve(g)"
   ]
  },
  {
   "cell_type": "markdown",
   "metadata": {},
   "source": [
    "Now, we set out to replicate the QRE estimation using the fixed-point method from the original paper.\n",
    "We set up a mixed strategy profile, which we populate with frequencies of each strategy.\n",
    "Data are reported in blocks of 16 plays, with $n=128$ pairs of players."
   ]
  },
  {
   "cell_type": "code",
   "execution_count": 6,
   "metadata": {
    "collapsed": false
   },
   "outputs": [
    {
     "data": {
      "text/latex": [
       "$\\left[[1079.296, 968.704],[749.568, 1298.432]\\right]$"
      ],
      "text/plain": [
       "[[1079.296, 968.704], [749.568, 1298.432]]"
      ]
     },
     "execution_count": 6,
     "metadata": {},
     "output_type": "execute_result"
    }
   ],
   "source": [
    "data1 = g.mixed_strategy_profile()\n",
    "data1[g.players[0]] = [ 16*128*0.527, 16*128*(1.0-0.527) ]\n",
    "data1[g.players[1]] = [ 16*128*0.366, 16*128*(1.0-0.366) ]\n",
    "data1"
   ]
  },
  {
   "cell_type": "markdown",
   "metadata": {},
   "source": [
    "With the data in hand, we ask Gambit to find the QRE which best fits the data, using maximum likelihood."
   ]
  },
  {
   "cell_type": "code",
   "execution_count": 7,
   "metadata": {
    "collapsed": false
   },
   "outputs": [
    {
     "data": {
      "text/plain": [
       "LogitQREMixedStrategyProfile(lam=1.845871,profile=[[0.6156446318590159, 0.38435536814098414], [0.383281508340127, 0.616718491659873]])"
      ]
     },
     "execution_count": 7,
     "metadata": {},
     "output_type": "execute_result"
    }
   ],
   "source": [
    "qre1 = gambit.nash.logit_estimate(data1)\n",
    "qre1"
   ]
  },
  {
   "cell_type": "markdown",
   "metadata": {},
   "source": [
    "We successfully replicate the same value of lambda and the same fitted mixed strategy profile as reported by McKPal95.\n",
    "Note that the method Gambit uses to find the maximizer is quite accurate; you can trust these to about 8 decimal\n",
    "places.\n",
    "\n",
    "<i>\n",
    "What Gambit does is to use standard path-following methods to traverse the \"principal branch\" of the QRE correspondence, and look for extreme points of the log-likelihood function restricted to that branch.  This is the \"right way\" to do it.  Some people try to use fixed-point iteration or other methods at various values of lambda.  These are wrong; do not listen to them!\n",
    "</i>\n",
    "\n",
    "What does not quite match up is the log-likelihood; McKPal95 claim a logL of -1747, whereas ours is much larger in magnitude. I have not been able to reconcile the difference in an obvious way; it is much too large simply to be rounding errors."
   ]
  },
  {
   "cell_type": "code",
   "execution_count": 8,
   "metadata": {
    "collapsed": false
   },
   "outputs": [
    {
     "data": {
      "text/plain": [
       "-2796.2259707889207"
      ]
     },
     "execution_count": 8,
     "metadata": {},
     "output_type": "execute_result"
    }
   ],
   "source": [
    "numpy.dot(list(data1), numpy.log(list(qre1)))"
   ]
  },
  {
   "cell_type": "markdown",
   "metadata": {},
   "source": [
    "The unexplained variance in log-likelihood notwithstanding, we can move on to periods 17-32 and again replicate\n",
    "McKPal95's fits:"
   ]
  },
  {
   "cell_type": "code",
   "execution_count": 9,
   "metadata": {
    "collapsed": false
   },
   "outputs": [
    {
     "data": {
      "text/plain": [
       "LogitQREMixedStrategyProfile(lam=1.567977,profile=[[0.6100787526260509, 0.389921247373949], [0.40502047327790697, 0.5949795267220931]])"
      ]
     },
     "execution_count": 9,
     "metadata": {},
     "output_type": "execute_result"
    }
   ],
   "source": [
    "data2 = g.mixed_strategy_profile()\n",
    "data2[g.players[0]] = [ 16*128*0.573, 16*128*(1.0-0.573) ]\n",
    "data2[g.players[1]] = [ 16*128*0.393, 16*128*(1.0-0.393) ]\n",
    "qre2 = gambit.nash.logit_estimate(data2)\n",
    "qre2"
   ]
  },
  {
   "cell_type": "markdown",
   "metadata": {},
   "source": [
    "And for periods 33-48:"
   ]
  },
  {
   "cell_type": "code",
   "execution_count": 10,
   "metadata": {
    "collapsed": false
   },
   "outputs": [
    {
     "data": {
      "text/plain": [
       "LogitQREMixedStrategyProfile(lam=3.306454,profile=[[0.6143028691464325, 0.38569713085356744], [0.30108853856548057, 0.6989114614345194]])"
      ]
     },
     "execution_count": 10,
     "metadata": {},
     "output_type": "execute_result"
    }
   ],
   "source": [
    "data3 = g.mixed_strategy_profile()\n",
    "data3[g.players[0]] = [ 16*128*0.610, 16*128*(1.0-0.610) ]\n",
    "data3[g.players[1]] = [ 16*128*0.302, 16*128*(1.0-0.302) ]\n",
    "qre3 = gambit.nash.logit_estimate(data3)\n",
    "qre3"
   ]
  },
  {
   "cell_type": "markdown",
   "metadata": {},
   "source": [
    "And finally for periods 49-52 (the caption in the table for McKPal95 says 48-52).  Our lambda of $\\approx 10^7$ translates\n",
    "essentially to infinity, i.e., Nash equilibrium."
   ]
  },
  {
   "cell_type": "code",
   "execution_count": 11,
   "metadata": {
    "collapsed": false
   },
   "outputs": [
    {
     "data": {
      "text/plain": [
       "LogitQREMixedStrategyProfile(lam=1040316.548725,profile=[[0.5000005980476384, 0.4999994019523616], [0.20000000000165133, 0.7999999999983487]])"
      ]
     },
     "execution_count": 11,
     "metadata": {},
     "output_type": "execute_result"
    }
   ],
   "source": [
    "data4 = g.mixed_strategy_profile()\n",
    "data4[g.players[0]] = [ 4*128*0.455, 4*128*(1.0-0.455) ]\n",
    "data4[g.players[1]] = [ 4*128*0.285, 4*128*(1.0-0.285) ]\n",
    "qre4 = gambit.nash.logit_estimate(data4)\n",
    "qre4"
   ]
  },
  {
   "cell_type": "markdown",
   "metadata": {},
   "source": [
    "As an estimation method, this works a treat if the game is small. However, under the hood, `logit_estimate` is solving a fixed-point problem, and fixed-point problems are computationally difficult problems, meaning the running times does not scale well as you make the size of the problem (i.e., the game) larger.  A practical feasible limit for estimating QRE is with games of perhaps 100 strategies in total - less if one also wants to recover estimates of e.g. risk-aversion parameters (of which more anon).\n",
    "\n",
    "Recently, in several papers, Camerer, Palfrey, and coauthors have been using a method first proposed by Bajari and Hortacsu in 2005.  The idea is that, given the actual observed data, under the assumption that the model (QRE) is correct, then one can compute a consistent estimator of the expected payoffs for each strategy from the existing data, and from there compute a consistent estimator of lambda.\n",
    "\n",
    "This is an interesting development because it finesses the problem of having to compute fixed points, and therefore one can compute estimates of lambda (and more interestingly of other parameters) in a computationally efficient way.\n",
    "\n",
    "To fix ideas, return to `data1`.  We can ask Gambit to compute the expected payoffs to players facing that empirical distribution of play:"
   ]
  },
  {
   "cell_type": "code",
   "execution_count": 12,
   "metadata": {
    "collapsed": false
   },
   "outputs": [
    {
     "data": {
      "text/latex": [
       "$\\left[[0.527, 0.473],[0.366, 0.634]\\right]$"
      ],
      "text/plain": [
       "[[0.527, 0.473], [0.366, 0.634]]"
      ]
     },
     "execution_count": 12,
     "metadata": {},
     "output_type": "execute_result"
    }
   ],
   "source": [
    "p1 = data1.copy()\n",
    "p1.normalize()\n",
    "p1"
   ]
  },
  {
   "cell_type": "code",
   "execution_count": 13,
   "metadata": {
    "collapsed": false
   },
   "outputs": [
    {
     "data": {
      "text/plain": [
       "[[0.40772400000000003, 0.17656900000000003], [0.5269693, 0.5871307000000001]]"
      ]
     },
     "execution_count": 13,
     "metadata": {},
     "output_type": "execute_result"
    }
   ],
   "source": [
    "p1.strategy_values()"
   ]
  },
  {
   "cell_type": "markdown",
   "metadata": {},
   "source": [
    "The idea of Bajari-Hortacsu is to take these expected payoffs and for any given $\\lambda$, say the $\\lambda=1.84$ estimated above, compute the logit response probabilities, say for the first player:"
   ]
  },
  {
   "cell_type": "code",
   "execution_count": 14,
   "metadata": {
    "collapsed": false
   },
   "outputs": [
    {
     "data": {
      "text/plain": [
       "array([ 0.60475682,  0.39524318])"
      ]
     },
     "execution_count": 14,
     "metadata": {},
     "output_type": "execute_result"
    }
   ],
   "source": [
    "resp = 1.84*numpy.array(p1.strategy_values(g.players[0]))\n",
    "resp = numpy.exp(resp)\n",
    "resp /= resp.sum()\n",
    "resp"
   ]
  },
  {
   "cell_type": "markdown",
   "metadata": {},
   "source": [
    "To estimate $\\lambda$, then, it is a matter of picking the $\\lambda$ that maximises the likelihood of the actual choice probabilities against those computed via the logit rule.  If we assume for the moment the same $\\lambda$ for\n",
    "both players, we see this is going to be very efficient: the choice probabilities are monotonic in $\\lambda$, and\n",
    "we have a one-dimensional optimisation problem, so it is going to be very fast to find the likelihood-maximising\n",
    "choice -- even if we had hundreds or thousands of strategies!\n",
    "\n",
    "It takes just a few lines of code to set up the optimisation:"
   ]
  },
  {
   "cell_type": "code",
   "execution_count": 15,
   "metadata": {
    "collapsed": false
   },
   "outputs": [],
   "source": [
    "import scipy.optimize\n",
    "\n",
    "def estimate_payoff_method(freqs):\n",
    "    def log_like(freqs, values, lam):\n",
    "        logit_probs = [ [ math.exp(lam*v) for v in player ] for player in values ]\n",
    "        sums = [ sum(v) for v in logit_probs ]\n",
    "        logit_probs = [ [ v/s for v in vv ]\n",
    "                          for (vv, s) in zip(logit_probs, sums) ]\n",
    "        logit_probs = [ v for player in logit_probs for v in player ]\n",
    "        logit_probs = [ max(v, 1.0e-293) for v in logit_probs ]\n",
    "        return sum([ f*math.log(p) for (f, p) in zip(list(freqs), logit_probs) ])\n",
    "    p = freqs.copy()\n",
    "    p.normalize()\n",
    "    v = p.strategy_values()\n",
    "    res = scipy.optimize.minimize(lambda x: -log_like(freqs, v, x[0]), (0.1,),\n",
    "                                  bounds=((0.0, None),))\n",
    "    return res.x[0]\n"
   ]
  },
  {
   "cell_type": "markdown",
   "metadata": {},
   "source": [
    "Now, we can estimate the QRE using the same data as above, for each of the four groups of periods, and compare the resulting estimates of $\\lambda$.  In each pair, the first value is the $\\lambda$ as estimated by the payoff method, the second as estimated by the (traditional) fixed-point path-following method."
   ]
  },
  {
   "cell_type": "code",
   "execution_count": 16,
   "metadata": {
    "collapsed": false
   },
   "outputs": [
    {
     "data": {
      "text/plain": [
       "(1.0070478027919727, 1.8458712502750365)"
      ]
     },
     "execution_count": 16,
     "metadata": {},
     "output_type": "execute_result"
    }
   ],
   "source": [
    "estimate_payoff_method(data1), qre1.lam"
   ]
  },
  {
   "cell_type": "code",
   "execution_count": 17,
   "metadata": {
    "collapsed": false
   },
   "outputs": [
    {
     "data": {
      "text/plain": [
       "(1.5178672707029293, 1.567976743237242)"
      ]
     },
     "execution_count": 17,
     "metadata": {},
     "output_type": "execute_result"
    }
   ],
   "source": [
    "estimate_payoff_method(data2), qre2.lam"
   ]
  },
  {
   "cell_type": "code",
   "execution_count": 18,
   "metadata": {
    "collapsed": false
   },
   "outputs": [
    {
     "data": {
      "text/plain": [
       "(3.3446122798176647, 3.30645430631916)"
      ]
     },
     "execution_count": 18,
     "metadata": {},
     "output_type": "execute_result"
    }
   ],
   "source": [
    "estimate_payoff_method(data3), qre3.lam"
   ]
  },
  {
   "cell_type": "code",
   "execution_count": 19,
   "metadata": {
    "collapsed": false
   },
   "outputs": [
    {
     "data": {
      "text/plain": [
       "(0.0, 1040316.5487249079)"
      ]
     },
     "execution_count": 19,
     "metadata": {},
     "output_type": "execute_result"
    }
   ],
   "source": [
    "estimate_payoff_method(data4), qre4.lam"
   ]
  },
  {
   "cell_type": "markdown",
   "metadata": {},
   "source": [
    "We get different estimates $\\hat{\\lambda}$ for the different methods.  This is of course completely OK; they are different estimation procedures so we don't expect to get the same answer.  But there are some patterns: in three of the four cases, the payoff method estimates a smaller $\\hat{\\lambda}$ than the fixed-point method, that is, it estimates less precise behaviour.  In the last case, where the fixed-point method claims play is close to Nash, the payoff method claims it is closest to uniform randomisation.\n",
    "\n",
    "We can pursue this idea further by some simulation exercises.  Suppose we knew that players were actually playing a QRE with a given value of $\\lambda$, which we set to $1.5$ for our purposes here, as being roughly in the range observed over most of the Ochs experiment.  Using Gambit we can compute the corresponding mixed strategy profile."
   ]
  },
  {
   "cell_type": "code",
   "execution_count": 20,
   "metadata": {
    "collapsed": false
   },
   "outputs": [
    {
     "data": {
      "text/plain": [
       "LogitQREMixedStrategyProfile(lam=1.500000,profile=[[0.608210533987243, 0.391789466012757], [0.4105548658372969, 0.5894451341627032]])"
      ]
     },
     "execution_count": 20,
     "metadata": {},
     "output_type": "execute_result"
    }
   ],
   "source": [
    "qre = gambit.nash.logit_atlambda(g, 1.5)\n",
    "qre"
   ]
  },
  {
   "cell_type": "markdown",
   "metadata": {},
   "source": [
    "We knock together a little function which lets us simulate two players playing the game $N$ times according to the QRE mixed strategy profile at $\\lambda$, and then, for each simulated play, we use both methods to estimate $\\hat\\lambda$ based on the realised play.  This is repeated `trials` times, and then the results are summarised for us in a handy dataset (a `pandas.DataFrame`)."
   ]
  },
  {
   "cell_type": "code",
   "execution_count": 21,
   "metadata": {
    "collapsed": true
   },
   "outputs": [],
   "source": [
    "def simulate_fits(game, lam, N, trials=100):\n",
    "    qre = gambit.nash.logit_atlambda(game, lam).profile\n",
    "    samples = [ ]\n",
    "    for sample in xrange(trials):\n",
    "        f = game.mixed_strategy_profile()\n",
    "        for player in game.players:\n",
    "            f[player] = numpy.random.multinomial(N, qre[player], size=1)[0]\n",
    "        samples.append(f)\n",
    "    labels = [ \"p%ds%d\" % (i, j)\n",
    "               for (i, player) in enumerate(game.players)\n",
    "               for (j, strategy) in enumerate(player.strategies) ]\n",
    "    return pandas.DataFrame([ list(freqs) +\n",
    "                              [ gambit.nash.logit_estimate(freqs).lam,\n",
    "                                estimate_payoff_method(freqs),\n",
    "                                lam ]\n",
    "                              for freqs in samples ],\n",
    "                            columns=labels + [ 'fixedpoint', 'payoff', 'actual' ])\n"
   ]
  },
  {
   "cell_type": "markdown",
   "metadata": {},
   "source": [
    "Let's have a look at 100 simulations of 50 plays each with $\\lambda=1.5.$"
   ]
  },
  {
   "cell_type": "code",
   "execution_count": 22,
   "metadata": {
    "collapsed": false
   },
   "outputs": [
    {
     "data": {
      "text/html": [
       "<div>\n",
       "<table border=\"1\" class=\"dataframe\">\n",
       "  <thead>\n",
       "    <tr style=\"text-align: right;\">\n",
       "      <th></th>\n",
       "      <th>p0s0</th>\n",
       "      <th>p0s1</th>\n",
       "      <th>p1s0</th>\n",
       "      <th>p1s1</th>\n",
       "      <th>fixedpoint</th>\n",
       "      <th>payoff</th>\n",
       "      <th>actual</th>\n",
       "    </tr>\n",
       "  </thead>\n",
       "  <tbody>\n",
       "    <tr>\n",
       "      <th>0</th>\n",
       "      <td>28</td>\n",
       "      <td>22</td>\n",
       "      <td>15</td>\n",
       "      <td>35</td>\n",
       "      <td>3.755125</td>\n",
       "      <td>3.853584</td>\n",
       "      <td>1.5</td>\n",
       "    </tr>\n",
       "    <tr>\n",
       "      <th>1</th>\n",
       "      <td>31</td>\n",
       "      <td>19</td>\n",
       "      <td>22</td>\n",
       "      <td>28</td>\n",
       "      <td>1.267290</td>\n",
       "      <td>1.241087</td>\n",
       "      <td>1.5</td>\n",
       "    </tr>\n",
       "    <tr>\n",
       "      <th>2</th>\n",
       "      <td>34</td>\n",
       "      <td>16</td>\n",
       "      <td>22</td>\n",
       "      <td>28</td>\n",
       "      <td>1.473619</td>\n",
       "      <td>1.258902</td>\n",
       "      <td>1.5</td>\n",
       "    </tr>\n",
       "    <tr>\n",
       "      <th>3</th>\n",
       "      <td>28</td>\n",
       "      <td>22</td>\n",
       "      <td>21</td>\n",
       "      <td>29</td>\n",
       "      <td>1.134753</td>\n",
       "      <td>1.048783</td>\n",
       "      <td>1.5</td>\n",
       "    </tr>\n",
       "    <tr>\n",
       "      <th>4</th>\n",
       "      <td>31</td>\n",
       "      <td>19</td>\n",
       "      <td>20</td>\n",
       "      <td>30</td>\n",
       "      <td>1.657714</td>\n",
       "      <td>1.641344</td>\n",
       "      <td>1.5</td>\n",
       "    </tr>\n",
       "    <tr>\n",
       "      <th>5</th>\n",
       "      <td>29</td>\n",
       "      <td>21</td>\n",
       "      <td>19</td>\n",
       "      <td>31</td>\n",
       "      <td>1.788733</td>\n",
       "      <td>1.776369</td>\n",
       "      <td>1.5</td>\n",
       "    </tr>\n",
       "    <tr>\n",
       "      <th>6</th>\n",
       "      <td>27</td>\n",
       "      <td>23</td>\n",
       "      <td>20</td>\n",
       "      <td>30</td>\n",
       "      <td>1.256126</td>\n",
       "      <td>0.943009</td>\n",
       "      <td>1.5</td>\n",
       "    </tr>\n",
       "    <tr>\n",
       "      <th>7</th>\n",
       "      <td>30</td>\n",
       "      <td>20</td>\n",
       "      <td>17</td>\n",
       "      <td>33</td>\n",
       "      <td>2.504250</td>\n",
       "      <td>2.578377</td>\n",
       "      <td>1.5</td>\n",
       "    </tr>\n",
       "    <tr>\n",
       "      <th>8</th>\n",
       "      <td>31</td>\n",
       "      <td>19</td>\n",
       "      <td>18</td>\n",
       "      <td>32</td>\n",
       "      <td>2.175313</td>\n",
       "      <td>2.170704</td>\n",
       "      <td>1.5</td>\n",
       "    </tr>\n",
       "    <tr>\n",
       "      <th>9</th>\n",
       "      <td>28</td>\n",
       "      <td>22</td>\n",
       "      <td>19</td>\n",
       "      <td>31</td>\n",
       "      <td>1.712525</td>\n",
       "      <td>1.557034</td>\n",
       "      <td>1.5</td>\n",
       "    </tr>\n",
       "    <tr>\n",
       "      <th>10</th>\n",
       "      <td>27</td>\n",
       "      <td>23</td>\n",
       "      <td>22</td>\n",
       "      <td>28</td>\n",
       "      <td>0.729984</td>\n",
       "      <td>0.627919</td>\n",
       "      <td>1.5</td>\n",
       "    </tr>\n",
       "    <tr>\n",
       "      <th>11</th>\n",
       "      <td>33</td>\n",
       "      <td>17</td>\n",
       "      <td>23</td>\n",
       "      <td>27</td>\n",
       "      <td>1.269607</td>\n",
       "      <td>1.133844</td>\n",
       "      <td>1.5</td>\n",
       "    </tr>\n",
       "    <tr>\n",
       "      <th>12</th>\n",
       "      <td>28</td>\n",
       "      <td>22</td>\n",
       "      <td>22</td>\n",
       "      <td>28</td>\n",
       "      <td>0.918580</td>\n",
       "      <td>0.872126</td>\n",
       "      <td>1.5</td>\n",
       "    </tr>\n",
       "    <tr>\n",
       "      <th>13</th>\n",
       "      <td>32</td>\n",
       "      <td>18</td>\n",
       "      <td>23</td>\n",
       "      <td>27</td>\n",
       "      <td>1.196056</td>\n",
       "      <td>1.119706</td>\n",
       "      <td>1.5</td>\n",
       "    </tr>\n",
       "    <tr>\n",
       "      <th>14</th>\n",
       "      <td>32</td>\n",
       "      <td>18</td>\n",
       "      <td>22</td>\n",
       "      <td>28</td>\n",
       "      <td>1.346310</td>\n",
       "      <td>1.271353</td>\n",
       "      <td>1.5</td>\n",
       "    </tr>\n",
       "    <tr>\n",
       "      <th>15</th>\n",
       "      <td>31</td>\n",
       "      <td>19</td>\n",
       "      <td>21</td>\n",
       "      <td>29</td>\n",
       "      <td>1.448529</td>\n",
       "      <td>1.426856</td>\n",
       "      <td>1.5</td>\n",
       "    </tr>\n",
       "    <tr>\n",
       "      <th>16</th>\n",
       "      <td>30</td>\n",
       "      <td>20</td>\n",
       "      <td>19</td>\n",
       "      <td>31</td>\n",
       "      <td>1.849118</td>\n",
       "      <td>1.872913</td>\n",
       "      <td>1.5</td>\n",
       "    </tr>\n",
       "    <tr>\n",
       "      <th>17</th>\n",
       "      <td>25</td>\n",
       "      <td>25</td>\n",
       "      <td>21</td>\n",
       "      <td>29</td>\n",
       "      <td>0.000000</td>\n",
       "      <td>0.000000</td>\n",
       "      <td>1.5</td>\n",
       "    </tr>\n",
       "    <tr>\n",
       "      <th>18</th>\n",
       "      <td>33</td>\n",
       "      <td>17</td>\n",
       "      <td>22</td>\n",
       "      <td>28</td>\n",
       "      <td>1.414308</td>\n",
       "      <td>1.274310</td>\n",
       "      <td>1.5</td>\n",
       "    </tr>\n",
       "    <tr>\n",
       "      <th>19</th>\n",
       "      <td>36</td>\n",
       "      <td>14</td>\n",
       "      <td>23</td>\n",
       "      <td>27</td>\n",
       "      <td>1.442653</td>\n",
       "      <td>1.090333</td>\n",
       "      <td>1.5</td>\n",
       "    </tr>\n",
       "    <tr>\n",
       "      <th>20</th>\n",
       "      <td>36</td>\n",
       "      <td>14</td>\n",
       "      <td>24</td>\n",
       "      <td>26</td>\n",
       "      <td>1.325751</td>\n",
       "      <td>0.990891</td>\n",
       "      <td>1.5</td>\n",
       "    </tr>\n",
       "    <tr>\n",
       "      <th>21</th>\n",
       "      <td>26</td>\n",
       "      <td>24</td>\n",
       "      <td>22</td>\n",
       "      <td>28</td>\n",
       "      <td>0.452920</td>\n",
       "      <td>0.329609</td>\n",
       "      <td>1.5</td>\n",
       "    </tr>\n",
       "    <tr>\n",
       "      <th>22</th>\n",
       "      <td>33</td>\n",
       "      <td>17</td>\n",
       "      <td>23</td>\n",
       "      <td>27</td>\n",
       "      <td>1.269607</td>\n",
       "      <td>1.133844</td>\n",
       "      <td>1.5</td>\n",
       "    </tr>\n",
       "    <tr>\n",
       "      <th>23</th>\n",
       "      <td>31</td>\n",
       "      <td>19</td>\n",
       "      <td>23</td>\n",
       "      <td>27</td>\n",
       "      <td>1.111248</td>\n",
       "      <td>1.080477</td>\n",
       "      <td>1.5</td>\n",
       "    </tr>\n",
       "    <tr>\n",
       "      <th>24</th>\n",
       "      <td>26</td>\n",
       "      <td>24</td>\n",
       "      <td>18</td>\n",
       "      <td>32</td>\n",
       "      <td>1.969211</td>\n",
       "      <td>0.830928</td>\n",
       "      <td>1.5</td>\n",
       "    </tr>\n",
       "    <tr>\n",
       "      <th>25</th>\n",
       "      <td>34</td>\n",
       "      <td>16</td>\n",
       "      <td>21</td>\n",
       "      <td>29</td>\n",
       "      <td>1.630421</td>\n",
       "      <td>1.400139</td>\n",
       "      <td>1.5</td>\n",
       "    </tr>\n",
       "    <tr>\n",
       "      <th>26</th>\n",
       "      <td>31</td>\n",
       "      <td>19</td>\n",
       "      <td>22</td>\n",
       "      <td>28</td>\n",
       "      <td>1.267290</td>\n",
       "      <td>1.241087</td>\n",
       "      <td>1.5</td>\n",
       "    </tr>\n",
       "    <tr>\n",
       "      <th>27</th>\n",
       "      <td>38</td>\n",
       "      <td>12</td>\n",
       "      <td>22</td>\n",
       "      <td>28</td>\n",
       "      <td>1.651798</td>\n",
       "      <td>1.119294</td>\n",
       "      <td>1.5</td>\n",
       "    </tr>\n",
       "    <tr>\n",
       "      <th>28</th>\n",
       "      <td>32</td>\n",
       "      <td>18</td>\n",
       "      <td>27</td>\n",
       "      <td>23</td>\n",
       "      <td>0.773234</td>\n",
       "      <td>0.674195</td>\n",
       "      <td>1.5</td>\n",
       "    </tr>\n",
       "    <tr>\n",
       "      <th>29</th>\n",
       "      <td>30</td>\n",
       "      <td>20</td>\n",
       "      <td>23</td>\n",
       "      <td>27</td>\n",
       "      <td>1.011930</td>\n",
       "      <td>1.007727</td>\n",
       "      <td>1.5</td>\n",
       "    </tr>\n",
       "    <tr>\n",
       "      <th>...</th>\n",
       "      <td>...</td>\n",
       "      <td>...</td>\n",
       "      <td>...</td>\n",
       "      <td>...</td>\n",
       "      <td>...</td>\n",
       "      <td>...</td>\n",
       "      <td>...</td>\n",
       "    </tr>\n",
       "    <tr>\n",
       "      <th>70</th>\n",
       "      <td>31</td>\n",
       "      <td>19</td>\n",
       "      <td>21</td>\n",
       "      <td>29</td>\n",
       "      <td>1.448529</td>\n",
       "      <td>1.426856</td>\n",
       "      <td>1.5</td>\n",
       "    </tr>\n",
       "    <tr>\n",
       "      <th>71</th>\n",
       "      <td>34</td>\n",
       "      <td>16</td>\n",
       "      <td>19</td>\n",
       "      <td>31</td>\n",
       "      <td>2.004179</td>\n",
       "      <td>1.721770</td>\n",
       "      <td>1.5</td>\n",
       "    </tr>\n",
       "    <tr>\n",
       "      <th>72</th>\n",
       "      <td>27</td>\n",
       "      <td>23</td>\n",
       "      <td>26</td>\n",
       "      <td>24</td>\n",
       "      <td>0.305140</td>\n",
       "      <td>0.311205</td>\n",
       "      <td>1.5</td>\n",
       "    </tr>\n",
       "    <tr>\n",
       "      <th>73</th>\n",
       "      <td>29</td>\n",
       "      <td>21</td>\n",
       "      <td>19</td>\n",
       "      <td>31</td>\n",
       "      <td>1.788733</td>\n",
       "      <td>1.776369</td>\n",
       "      <td>1.5</td>\n",
       "    </tr>\n",
       "    <tr>\n",
       "      <th>74</th>\n",
       "      <td>34</td>\n",
       "      <td>16</td>\n",
       "      <td>20</td>\n",
       "      <td>30</td>\n",
       "      <td>1.806502</td>\n",
       "      <td>1.554344</td>\n",
       "      <td>1.5</td>\n",
       "    </tr>\n",
       "    <tr>\n",
       "      <th>75</th>\n",
       "      <td>33</td>\n",
       "      <td>17</td>\n",
       "      <td>19</td>\n",
       "      <td>31</td>\n",
       "      <td>1.974243</td>\n",
       "      <td>1.794819</td>\n",
       "      <td>1.5</td>\n",
       "    </tr>\n",
       "    <tr>\n",
       "      <th>76</th>\n",
       "      <td>29</td>\n",
       "      <td>21</td>\n",
       "      <td>20</td>\n",
       "      <td>30</td>\n",
       "      <td>1.504863</td>\n",
       "      <td>1.484470</td>\n",
       "      <td>1.5</td>\n",
       "    </tr>\n",
       "    <tr>\n",
       "      <th>77</th>\n",
       "      <td>26</td>\n",
       "      <td>24</td>\n",
       "      <td>22</td>\n",
       "      <td>28</td>\n",
       "      <td>0.452920</td>\n",
       "      <td>0.329609</td>\n",
       "      <td>1.5</td>\n",
       "    </tr>\n",
       "    <tr>\n",
       "      <th>78</th>\n",
       "      <td>31</td>\n",
       "      <td>19</td>\n",
       "      <td>19</td>\n",
       "      <td>31</td>\n",
       "      <td>1.898363</td>\n",
       "      <td>1.888169</td>\n",
       "      <td>1.5</td>\n",
       "    </tr>\n",
       "    <tr>\n",
       "      <th>79</th>\n",
       "      <td>33</td>\n",
       "      <td>17</td>\n",
       "      <td>19</td>\n",
       "      <td>31</td>\n",
       "      <td>1.974243</td>\n",
       "      <td>1.794819</td>\n",
       "      <td>1.5</td>\n",
       "    </tr>\n",
       "    <tr>\n",
       "      <th>80</th>\n",
       "      <td>38</td>\n",
       "      <td>12</td>\n",
       "      <td>23</td>\n",
       "      <td>27</td>\n",
       "      <td>1.530532</td>\n",
       "      <td>1.029923</td>\n",
       "      <td>1.5</td>\n",
       "    </tr>\n",
       "    <tr>\n",
       "      <th>81</th>\n",
       "      <td>31</td>\n",
       "      <td>19</td>\n",
       "      <td>20</td>\n",
       "      <td>30</td>\n",
       "      <td>1.657714</td>\n",
       "      <td>1.641344</td>\n",
       "      <td>1.5</td>\n",
       "    </tr>\n",
       "    <tr>\n",
       "      <th>82</th>\n",
       "      <td>28</td>\n",
       "      <td>22</td>\n",
       "      <td>26</td>\n",
       "      <td>24</td>\n",
       "      <td>0.441327</td>\n",
       "      <td>0.446056</td>\n",
       "      <td>1.5</td>\n",
       "    </tr>\n",
       "    <tr>\n",
       "      <th>83</th>\n",
       "      <td>33</td>\n",
       "      <td>17</td>\n",
       "      <td>26</td>\n",
       "      <td>24</td>\n",
       "      <td>0.934113</td>\n",
       "      <td>0.795204</td>\n",
       "      <td>1.5</td>\n",
       "    </tr>\n",
       "    <tr>\n",
       "      <th>84</th>\n",
       "      <td>28</td>\n",
       "      <td>22</td>\n",
       "      <td>27</td>\n",
       "      <td>23</td>\n",
       "      <td>0.383377</td>\n",
       "      <td>0.382068</td>\n",
       "      <td>1.5</td>\n",
       "    </tr>\n",
       "    <tr>\n",
       "      <th>85</th>\n",
       "      <td>32</td>\n",
       "      <td>18</td>\n",
       "      <td>17</td>\n",
       "      <td>33</td>\n",
       "      <td>2.487890</td>\n",
       "      <td>2.367087</td>\n",
       "      <td>1.5</td>\n",
       "    </tr>\n",
       "    <tr>\n",
       "      <th>86</th>\n",
       "      <td>29</td>\n",
       "      <td>21</td>\n",
       "      <td>18</td>\n",
       "      <td>32</td>\n",
       "      <td>2.121859</td>\n",
       "      <td>2.135767</td>\n",
       "      <td>1.5</td>\n",
       "    </tr>\n",
       "    <tr>\n",
       "      <th>87</th>\n",
       "      <td>27</td>\n",
       "      <td>23</td>\n",
       "      <td>22</td>\n",
       "      <td>28</td>\n",
       "      <td>0.729984</td>\n",
       "      <td>0.627919</td>\n",
       "      <td>1.5</td>\n",
       "    </tr>\n",
       "    <tr>\n",
       "      <th>88</th>\n",
       "      <td>30</td>\n",
       "      <td>20</td>\n",
       "      <td>24</td>\n",
       "      <td>26</td>\n",
       "      <td>0.876599</td>\n",
       "      <td>0.868581</td>\n",
       "      <td>1.5</td>\n",
       "    </tr>\n",
       "    <tr>\n",
       "      <th>89</th>\n",
       "      <td>30</td>\n",
       "      <td>20</td>\n",
       "      <td>18</td>\n",
       "      <td>32</td>\n",
       "      <td>2.151346</td>\n",
       "      <td>2.197173</td>\n",
       "      <td>1.5</td>\n",
       "    </tr>\n",
       "    <tr>\n",
       "      <th>90</th>\n",
       "      <td>30</td>\n",
       "      <td>20</td>\n",
       "      <td>26</td>\n",
       "      <td>24</td>\n",
       "      <td>0.672515</td>\n",
       "      <td>0.650123</td>\n",
       "      <td>1.5</td>\n",
       "    </tr>\n",
       "    <tr>\n",
       "      <th>91</th>\n",
       "      <td>35</td>\n",
       "      <td>15</td>\n",
       "      <td>25</td>\n",
       "      <td>25</td>\n",
       "      <td>1.163783</td>\n",
       "      <td>0.907192</td>\n",
       "      <td>1.5</td>\n",
       "    </tr>\n",
       "    <tr>\n",
       "      <th>92</th>\n",
       "      <td>27</td>\n",
       "      <td>23</td>\n",
       "      <td>21</td>\n",
       "      <td>29</td>\n",
       "      <td>0.961287</td>\n",
       "      <td>0.764932</td>\n",
       "      <td>1.5</td>\n",
       "    </tr>\n",
       "    <tr>\n",
       "      <th>93</th>\n",
       "      <td>27</td>\n",
       "      <td>23</td>\n",
       "      <td>24</td>\n",
       "      <td>26</td>\n",
       "      <td>0.444515</td>\n",
       "      <td>0.435554</td>\n",
       "      <td>1.5</td>\n",
       "    </tr>\n",
       "    <tr>\n",
       "      <th>94</th>\n",
       "      <td>29</td>\n",
       "      <td>21</td>\n",
       "      <td>13</td>\n",
       "      <td>37</td>\n",
       "      <td>5.172218</td>\n",
       "      <td>5.441656</td>\n",
       "      <td>1.5</td>\n",
       "    </tr>\n",
       "    <tr>\n",
       "      <th>95</th>\n",
       "      <td>26</td>\n",
       "      <td>24</td>\n",
       "      <td>19</td>\n",
       "      <td>31</td>\n",
       "      <td>1.470323</td>\n",
       "      <td>0.640770</td>\n",
       "      <td>1.5</td>\n",
       "    </tr>\n",
       "    <tr>\n",
       "      <th>96</th>\n",
       "      <td>36</td>\n",
       "      <td>14</td>\n",
       "      <td>20</td>\n",
       "      <td>30</td>\n",
       "      <td>1.876047</td>\n",
       "      <td>1.435128</td>\n",
       "      <td>1.5</td>\n",
       "    </tr>\n",
       "    <tr>\n",
       "      <th>97</th>\n",
       "      <td>32</td>\n",
       "      <td>18</td>\n",
       "      <td>24</td>\n",
       "      <td>26</td>\n",
       "      <td>1.065647</td>\n",
       "      <td>0.986106</td>\n",
       "      <td>1.5</td>\n",
       "    </tr>\n",
       "    <tr>\n",
       "      <th>98</th>\n",
       "      <td>24</td>\n",
       "      <td>26</td>\n",
       "      <td>21</td>\n",
       "      <td>29</td>\n",
       "      <td>0.000000</td>\n",
       "      <td>0.000000</td>\n",
       "      <td>1.5</td>\n",
       "    </tr>\n",
       "    <tr>\n",
       "      <th>99</th>\n",
       "      <td>30</td>\n",
       "      <td>20</td>\n",
       "      <td>17</td>\n",
       "      <td>33</td>\n",
       "      <td>2.504250</td>\n",
       "      <td>2.578377</td>\n",
       "      <td>1.5</td>\n",
       "    </tr>\n",
       "  </tbody>\n",
       "</table>\n",
       "<p>100 rows × 7 columns</p>\n",
       "</div>"
      ],
      "text/plain": [
       "    p0s0  p0s1  p1s0  p1s1  fixedpoint    payoff  actual\n",
       "0     28    22    15    35    3.755125  3.853584     1.5\n",
       "1     31    19    22    28    1.267290  1.241087     1.5\n",
       "2     34    16    22    28    1.473619  1.258902     1.5\n",
       "3     28    22    21    29    1.134753  1.048783     1.5\n",
       "4     31    19    20    30    1.657714  1.641344     1.5\n",
       "5     29    21    19    31    1.788733  1.776369     1.5\n",
       "6     27    23    20    30    1.256126  0.943009     1.5\n",
       "7     30    20    17    33    2.504250  2.578377     1.5\n",
       "8     31    19    18    32    2.175313  2.170704     1.5\n",
       "9     28    22    19    31    1.712525  1.557034     1.5\n",
       "10    27    23    22    28    0.729984  0.627919     1.5\n",
       "11    33    17    23    27    1.269607  1.133844     1.5\n",
       "12    28    22    22    28    0.918580  0.872126     1.5\n",
       "13    32    18    23    27    1.196056  1.119706     1.5\n",
       "14    32    18    22    28    1.346310  1.271353     1.5\n",
       "15    31    19    21    29    1.448529  1.426856     1.5\n",
       "16    30    20    19    31    1.849118  1.872913     1.5\n",
       "17    25    25    21    29    0.000000  0.000000     1.5\n",
       "18    33    17    22    28    1.414308  1.274310     1.5\n",
       "19    36    14    23    27    1.442653  1.090333     1.5\n",
       "20    36    14    24    26    1.325751  0.990891     1.5\n",
       "21    26    24    22    28    0.452920  0.329609     1.5\n",
       "22    33    17    23    27    1.269607  1.133844     1.5\n",
       "23    31    19    23    27    1.111248  1.080477     1.5\n",
       "24    26    24    18    32    1.969211  0.830928     1.5\n",
       "25    34    16    21    29    1.630421  1.400139     1.5\n",
       "26    31    19    22    28    1.267290  1.241087     1.5\n",
       "27    38    12    22    28    1.651798  1.119294     1.5\n",
       "28    32    18    27    23    0.773234  0.674195     1.5\n",
       "29    30    20    23    27    1.011930  1.007727     1.5\n",
       "..   ...   ...   ...   ...         ...       ...     ...\n",
       "70    31    19    21    29    1.448529  1.426856     1.5\n",
       "71    34    16    19    31    2.004179  1.721770     1.5\n",
       "72    27    23    26    24    0.305140  0.311205     1.5\n",
       "73    29    21    19    31    1.788733  1.776369     1.5\n",
       "74    34    16    20    30    1.806502  1.554344     1.5\n",
       "75    33    17    19    31    1.974243  1.794819     1.5\n",
       "76    29    21    20    30    1.504863  1.484470     1.5\n",
       "77    26    24    22    28    0.452920  0.329609     1.5\n",
       "78    31    19    19    31    1.898363  1.888169     1.5\n",
       "79    33    17    19    31    1.974243  1.794819     1.5\n",
       "80    38    12    23    27    1.530532  1.029923     1.5\n",
       "81    31    19    20    30    1.657714  1.641344     1.5\n",
       "82    28    22    26    24    0.441327  0.446056     1.5\n",
       "83    33    17    26    24    0.934113  0.795204     1.5\n",
       "84    28    22    27    23    0.383377  0.382068     1.5\n",
       "85    32    18    17    33    2.487890  2.367087     1.5\n",
       "86    29    21    18    32    2.121859  2.135767     1.5\n",
       "87    27    23    22    28    0.729984  0.627919     1.5\n",
       "88    30    20    24    26    0.876599  0.868581     1.5\n",
       "89    30    20    18    32    2.151346  2.197173     1.5\n",
       "90    30    20    26    24    0.672515  0.650123     1.5\n",
       "91    35    15    25    25    1.163783  0.907192     1.5\n",
       "92    27    23    21    29    0.961287  0.764932     1.5\n",
       "93    27    23    24    26    0.444515  0.435554     1.5\n",
       "94    29    21    13    37    5.172218  5.441656     1.5\n",
       "95    26    24    19    31    1.470323  0.640770     1.5\n",
       "96    36    14    20    30    1.876047  1.435128     1.5\n",
       "97    32    18    24    26    1.065647  0.986106     1.5\n",
       "98    24    26    21    29    0.000000  0.000000     1.5\n",
       "99    30    20    17    33    2.504250  2.578377     1.5\n",
       "\n",
       "[100 rows x 7 columns]"
      ]
     },
     "execution_count": 22,
     "metadata": {},
     "output_type": "execute_result"
    }
   ],
   "source": [
    "simdata = simulate_fits(g, 1.5, 50)\n",
    "simdata"
   ]
  },
  {
   "cell_type": "markdown",
   "metadata": {},
   "source": [
    "In what proportion of these simulated plays does the fixed-point method estimate a higher $\\hat\\lambda$ than the payoff-based method?  (This very compact notation that pandas allows us to use will be familiar to users of e.g. R.)"
   ]
  },
  {
   "cell_type": "code",
   "execution_count": 23,
   "metadata": {
    "collapsed": false
   },
   "outputs": [
    {
     "data": {
      "text/plain": [
       "0.85999999999999999"
      ]
     },
     "execution_count": 23,
     "metadata": {},
     "output_type": "execute_result"
    }
   ],
   "source": [
    "(simdata.fixedpoint>simdata.payoff).astype(int).mean()"
   ]
  },
  {
   "cell_type": "markdown",
   "metadata": {},
   "source": [
    "We can also get summary descriptions of the distributions of $\\hat\\lambda$ for each method individually.  This confirms the payoff method does return systematically lower values of $\\hat\\lambda$ - and that they are lower than the true value, which we know by construction."
   ]
  },
  {
   "cell_type": "code",
   "execution_count": 24,
   "metadata": {
    "collapsed": false
   },
   "outputs": [
    {
     "data": {
      "text/plain": [
       "count    100.000000\n",
       "mean       1.495753\n",
       "std        0.778820\n",
       "min        0.000000\n",
       "25%        1.052218\n",
       "50%        1.459426\n",
       "75%        1.881626\n",
       "max        5.172218\n",
       "Name: fixedpoint, dtype: float64"
      ]
     },
     "execution_count": 24,
     "metadata": {},
     "output_type": "execute_result"
    }
   ],
   "source": [
    "simdata.fixedpoint.describe()"
   ]
  },
  {
   "cell_type": "code",
   "execution_count": 25,
   "metadata": {
    "collapsed": false
   },
   "outputs": [
    {
     "data": {
      "text/plain": [
       "count    100.000000\n",
       "mean       1.352604\n",
       "std        0.784515\n",
       "min        0.000000\n",
       "25%        0.871240\n",
       "50%        1.257109\n",
       "75%        1.641344\n",
       "max        5.441656\n",
       "Name: payoff, dtype: float64"
      ]
     },
     "execution_count": 25,
     "metadata": {},
     "output_type": "execute_result"
    }
   ],
   "source": [
    "simdata.payoff.describe()"
   ]
  },
  {
   "cell_type": "markdown",
   "metadata": {},
   "source": [
    "We can visualise the results by doing a scatterplot comparing the estimated $\\hat\\lambda$ by the two methods for each simulated play.  Each point in this scatterplot corresponds to one simulated outcome."
   ]
  },
  {
   "cell_type": "code",
   "execution_count": 26,
   "metadata": {
    "collapsed": true
   },
   "outputs": [],
   "source": [
    "def method_scatterplot(df, lam):\n",
    "    plt.plot([ row['payoff']/(1.0+row['payoff']) for (index, row) in df.iterrows() ],\n",
    "             [ row['fixedpoint']/(1.0+row['fixedpoint']) for (index, row) in df.iterrows() ],\n",
    "             'kp')\n",
    "    plt.plot([ 0, 1 ], [ 0, 1 ], 'k--')\n",
    "    plt.plot([ lam/(1.0+lam) ], [ lam/(1.0+lam) ], 'm*', ms=20)\n",
    "    plt.xticks([ 0.0, 0.25, 0.50, 0.75, 1.00 ],\n",
    "               [ '0.00', '0.50', '1.00', '2.00', 'Nash' ])\n",
    "    plt.xlabel('Estimated lambda via payoff method')\n",
    "    plt.yticks([ 0.0, 0.25, 0.50, 0.75, 1.00 ],\n",
    "               [ '0.00', '0.50', '1.00', '2.00', 'Nash' ])\n",
    "    plt.ylabel('Estimated lambda via fixed point method')\n",
    "    plt.show()"
   ]
  },
  {
   "cell_type": "code",
   "execution_count": 27,
   "metadata": {
    "collapsed": false
   },
   "outputs": [
    {
     "data": {
      "image/png": "[encoded data removed]",
      "text/plain": [
       "<matplotlib.figure.Figure at 0x110d32e50>"
      ]
     },
     "metadata": {},
     "output_type": "display_data"
    }
   ],
   "source": [
    "method_scatterplot(simdata, 1.5)"
   ]
  },
  {
   "cell_type": "markdown",
   "metadata": {},
   "source": [
    "In the case of a 2x2 game, we can do something else to visualise what is going on.  Because the space of mixed strategy profiles is just equivalent to a square, we can project the QRE correspondence down onto a square.  This next function sets that up."
   ]
  },
  {
   "cell_type": "code",
   "execution_count": 28,
   "metadata": {
    "collapsed": true
   },
   "outputs": [],
   "source": [
    "def correspondence_plot(game, df=None):\n",
    "    corresp = gambit.nash.logit_principal_branch(game)\n",
    "    plt.plot([ x.profile[game.players[0]][0] for x in corresp ],\n",
    "             [ x.profile[game.players[1]][0] for x in corresp ], 'k--')\n",
    "    plt.xlabel(\"Pr(Player 0 strategy 0)\")\n",
    "    plt.ylabel(\"Pr(Player 1 strategy 0)\")\n",
    "    \n",
    "    for lam in numpy.arange(1.0, 10.1, 1.0):\n",
    "        qrelam = gambit.nash.logit_atlambda(game, lam).profile\n",
    "        plt.plot([ qrelam[game.players[0]][0] ],\n",
    "                 [ qrelam[game.players[1]][0] ], 'kd')\n",
    "        \n",
    "    if df is None: return\n",
    "\n",
    "    for (index, sample) in df.iterrows():\n",
    "        lam = sample['payoff']\n",
    "        fitted = gambit.nash.logit_atlambda(game, lam).profile\n",
    "        plt.plot([ sample['p0s0']/(sample['p0s0']+sample['p0s1']),\n",
    "                   fitted[game.players[0]][0] ],\n",
    "                 [ sample['p1s0']/(sample['p1s0']+sample['p1s1']),\n",
    "                   fitted[game.players[1]][0] ], 'r')\n",
    "    \n",
    "        lam = sample['fixedpoint']\n",
    "        fitted = gambit.nash.logit_atlambda(game, lam).profile\n",
    "        plt.plot([ sample['p0s0']/(sample['p0s0']+sample['p0s1']),\n",
    "                   fitted[game.players[0]][0] ],\n",
    "                 [ sample['p1s0']/(sample['p1s0']+sample['p1s1']),\n",
    "                   fitted[game.players[1]][0] ], 'b')"
   ]
  },
  {
   "cell_type": "code",
   "execution_count": 29,
   "metadata": {
    "collapsed": false
   },
   "outputs": [
    {
     "data": {
      "image/png": "[encoded data removed]",
      "text/plain": [
       "<matplotlib.figure.Figure at 0x110d42c10>"
      ]
     },
     "metadata": {},
     "output_type": "display_data"
    }
   ],
   "source": [
    "correspondence_plot(g)"
   ]
  },
  {
   "cell_type": "markdown",
   "metadata": {},
   "source": [
    "Now, we can add to this correspondence plot information about our simulated data and fits.  For each simulated observation, we plot the simulated strategy frequencies.  We then plot from that point a red line, which links the observed frequencies to the fitted point on the QRE correspondence using the payoff method, and a blue line, which links the observed frequencies to the fitted point using the fixed-point method.  It becomes clear that the fixed-point method (blue) lines generally link up to points farther along the correspondence, i.e. ones with higher $\\lambda$."
   ]
  },
  {
   "cell_type": "code",
   "execution_count": 30,
   "metadata": {
    "collapsed": false
   },
   "outputs": [
    {
     "data": {
      "image/png": "[encoded data removed]",
      "text/plain": [
       "<matplotlib.figure.Figure at 0x110d44cd0>"
      ]
     },
     "metadata": {},
     "output_type": "display_data"
    }
   ],
   "source": [
    "correspondence_plot(g, simdata)"
   ]
  },
  {
   "cell_type": "markdown",
   "metadata": {},
   "source": [
    "## Other games from McKPal95"
   ]
  },
  {
   "cell_type": "markdown",
   "metadata": {},
   "source": [
    "It is reasonable to ask whether this biased performance is due to some special characteristic of the games studied by Ochs.  We can look to some other games from McKelvey-Palfrey (1995) to investigate this further.\n",
    "\n",
    "The second case study is a constant-sum game with four strategies for each player reported in\n",
    "\n",
    "O'Neill, B. (1987) Nonmetric test of the minimax theory of two-person zerosum games. *Proceedings of the National Academy of Sciences of the USA*, **84**:2106-2109."
   ]
  },
  {
   "cell_type": "code",
   "execution_count": 31,
   "metadata": {
    "collapsed": false
   },
   "outputs": [
    {
     "data": {
      "text/plain": [
       "array([[5, -5, -5, -5],\n",
       "       [-5, -5, 5, 5],\n",
       "       [-5, 5, -5, 5],\n",
       "       [-5, 5, 5, -5]], dtype=object)"
      ]
     },
     "execution_count": 31,
     "metadata": {},
     "output_type": "execute_result"
    }
   ],
   "source": [
    "matrix = numpy.array([ [ 5, -5, -5, -5 ],\n",
    "                       [ -5, -5, 5, 5 ],\n",
    "                       [ -5, 5, -5, 5 ],\n",
    "                       [ -5, 5, 5, -5 ] ], dtype=gambit.Rational)\n",
    "matrix"
   ]
  },
  {
   "cell_type": "markdown",
   "metadata": {},
   "source": [
    "We again follow McKPal95 and translate these payoffs into 1982 cents for comparability."
   ]
  },
  {
   "cell_type": "code",
   "execution_count": 32,
   "metadata": {
    "collapsed": true
   },
   "outputs": [],
   "source": [
    "matrix *= gambit.Rational(913, 1000)\n",
    "game = gambit.Game.from_arrays(matrix, -matrix)"
   ]
  },
  {
   "cell_type": "markdown",
   "metadata": {},
   "source": [
    "We simulate our data around the $\\hat\\lambda\\approx 1.3$ reported by McKPal95."
   ]
  },
  {
   "cell_type": "code",
   "execution_count": 33,
   "metadata": {
    "collapsed": true
   },
   "outputs": [],
   "source": [
    "simdata = simulate_fits(g, 1.3, 50)"
   ]
  },
  {
   "cell_type": "code",
   "execution_count": 34,
   "metadata": {
    "collapsed": false
   },
   "outputs": [
    {
     "data": {
      "text/plain": [
       "0.79000000000000004"
      ]
     },
     "execution_count": 34,
     "metadata": {},
     "output_type": "execute_result"
    }
   ],
   "source": [
    "(simdata.fixedpoint>simdata.payoff).astype(int).mean()"
   ]
  },
  {
   "cell_type": "code",
   "execution_count": 35,
   "metadata": {
    "collapsed": false
   },
   "outputs": [
    {
     "data": {
      "text/plain": [
       "count    100.000000\n",
       "mean       1.330206\n",
       "std        0.863340\n",
       "min        0.000000\n",
       "25%        0.720926\n",
       "50%        1.256126\n",
       "75%        1.844871\n",
       "max        3.610687\n",
       "Name: fixedpoint, dtype: float64"
      ]
     },
     "execution_count": 35,
     "metadata": {},
     "output_type": "execute_result"
    }
   ],
   "source": [
    "simdata.fixedpoint.describe()"
   ]
  },
  {
   "cell_type": "code",
   "execution_count": 36,
   "metadata": {
    "collapsed": false
   },
   "outputs": [
    {
     "data": {
      "text/plain": [
       "count    100.000000\n",
       "mean       1.137151\n",
       "std        0.768048\n",
       "min        0.000000\n",
       "25%        0.602237\n",
       "50%        1.080477\n",
       "75%        1.599950\n",
       "max        3.032108\n",
       "Name: payoff, dtype: float64"
      ]
     },
     "execution_count": 36,
     "metadata": {},
     "output_type": "execute_result"
    }
   ],
   "source": [
    "simdata.payoff.describe()"
   ]
  },
  {
   "cell_type": "code",
   "execution_count": 37,
   "metadata": {
    "collapsed": false
   },
   "outputs": [
    {
     "data": {
      "image/png": "[encoded data removed]",
      "text/plain": [
       "<matplotlib.figure.Figure at 0x1111940d0>"
      ]
     },
     "metadata": {},
     "output_type": "display_data"
    }
   ],
   "source": [
    "method_scatterplot(simdata, 1.5)"
   ]
  },
  {
   "cell_type": "markdown",
   "metadata": {},
   "source": [
    "Another game considered by McKPal95 is a 5x5 constant-sum game from\n",
    "\n",
    "Rapoport, A. and Boebel, R. (1992) Mixed strategies in strictly competitive games: A further test of the minimax hypothesis.  *Games and Economic Behavior* **4**: 261-283.\n",
    "\n",
    "We put the estimation approaches through their paces, around the $\\hat\\lambda \\approx 0.25$ reported by McKPal95."
   ]
  },
  {
   "cell_type": "code",
   "execution_count": 38,
   "metadata": {
    "collapsed": true
   },
   "outputs": [],
   "source": [
    "matrix = numpy.array([ [ 10, -6, -6, -6, -6 ],\n",
    "                       [ -6, -6, 10, 10, 10 ],\n",
    "                       [ -6, 10, -6, -6, 10 ],\n",
    "                       [ -6, 10, -6, 10, -6 ],\n",
    "                       [ -6, 10, 10, -6, -6 ] ], dtype=gambit.Rational)\n",
    "matrix *= gambit.Rational(713, 1000)\n",
    "game = gambit.Game.from_arrays(matrix, -matrix)\n",
    "simdata = simulate_fits(g, 0.25, 50)"
   ]
  },
  {
   "cell_type": "code",
   "execution_count": 39,
   "metadata": {
    "collapsed": false
   },
   "outputs": [
    {
     "data": {
      "text/plain": [
       "count    100.000000\n",
       "mean       0.467369\n",
       "std        0.568382\n",
       "min        0.000000\n",
       "25%        0.000000\n",
       "50%        0.301702\n",
       "75%        0.757745\n",
       "max        2.084625\n",
       "Name: fixedpoint, dtype: float64"
      ]
     },
     "execution_count": 39,
     "metadata": {},
     "output_type": "execute_result"
    }
   ],
   "source": [
    "simdata.fixedpoint.describe()"
   ]
  },
  {
   "cell_type": "code",
   "execution_count": 40,
   "metadata": {
    "collapsed": false
   },
   "outputs": [
    {
     "data": {
      "text/plain": [
       "count    100.000000\n",
       "mean       0.399141\n",
       "std        0.493687\n",
       "min        0.000000\n",
       "25%        0.000000\n",
       "50%        0.264003\n",
       "75%        0.643454\n",
       "max        1.925047\n",
       "Name: payoff, dtype: float64"
      ]
     },
     "execution_count": 40,
     "metadata": {},
     "output_type": "execute_result"
    }
   ],
   "source": [
    "simdata.payoff.describe()"
   ]
  },
  {
   "cell_type": "code",
   "execution_count": 41,
   "metadata": {
    "collapsed": false
   },
   "outputs": [
    {
     "data": {
      "image/png": "[encoded data removed]",
      "text/plain": [
       "<matplotlib.figure.Figure at 0x110fdd5d0>"
      ]
     },
     "metadata": {},
     "output_type": "display_data"
    }
   ],
   "source": [
    "method_scatterplot(simdata, 0.25)"
   ]
  },
  {
   "cell_type": "markdown",
   "metadata": {},
   "source": [
    "## Estimating other parameters"
   ]
  },
  {
   "cell_type": "markdown",
   "metadata": {},
   "source": [
    "While it appears, from these (still preliminary) results, that the payoff method for estimating $\\lambda$ is biased towards estimates which are more \"noisy\" than the true behaviour, this may not in practice be much of a concern.\n",
    "\n",
    "In the view of this researcher, the real strength of the logit model is in using it to estimate other parameters of interest.  The logit model has some attractive foundations in terms of information theory which make it ideal for this task (in addition to being computationally quite tractable).\n",
    "\n",
    "It is precisely in these applications where the payoff-based estimation approach is most attractive.  The fixed-point method becomes progressively more computationally infeasible as the game gets larger, or as the number of parameters to be considered grows.  The payoff approach on the other hand scales much more attractively.  What we really want to know, then, is not so much whether $\\hat\\lambda$ is biased, but whether estimates of *other* parameters of interest are systematically biased as well.\n",
    "\n",
    "We pick this up by looking at some examples from\n",
    "\n",
    "Goeree, Holt, and Palfrey (2002), Risk averse behavior in generalized matching pennies games."
   ]
  },
  {
   "cell_type": "code",
   "execution_count": 42,
   "metadata": {
    "collapsed": true
   },
   "outputs": [],
   "source": [
    "matrix1 = numpy.array([ [ 200, 160 ], [ 370, 10 ]], dtype=gambit.Decimal)\n",
    "matrix2 = numpy.array([ [ 160, 10 ], [ 200, 370 ]], dtype=gambit.Decimal)\n",
    "game = gambit.Game.from_arrays(matrix1, matrix2)"
   ]
  },
  {
   "cell_type": "markdown",
   "metadata": {},
   "source": [
    "The idea in GHP2002 is to estimate simultaneously a QRE with a common constant-relative risk aversion parameter $r$.  This utility function transforms the basic payoff matrix into (scaled) utilities given CRRA paramater $r$."
   ]
  },
  {
   "cell_type": "code",
   "execution_count": 43,
   "metadata": {
    "collapsed": true
   },
   "outputs": [],
   "source": [
    "def transform_matrix(m, r):\n",
    "    r = gambit.Decimal(str(r))\n",
    "    return (numpy.power(m, 1-r) - numpy.power(10, 1-r)) / \\\n",
    "           (numpy.power(370, 1-r) - numpy.power(10, 1-r))"
   ]
  },
  {
   "cell_type": "markdown",
   "metadata": {},
   "source": [
    "The next few functions set up the optimisation.  For the purposes of the talk, we simply look over a discrete grid of possible risk aversion parameters (to keep the running time short and reliable for a live demo!)"
   ]
  },
  {
   "cell_type": "code",
   "execution_count": 44,
   "metadata": {
    "collapsed": true
   },
   "outputs": [],
   "source": [
    "def estimate_risk_fixedpoint_method(matrix1, matrix2, freqs):\n",
    "    def log_like(r):\n",
    "        tm1 = transform_matrix(matrix1, r)\n",
    "        tm2 = transform_matrix(matrix2, r)\n",
    "        g = gambit.Game.from_arrays(tm1, tm2)\n",
    "        profile = g.mixed_strategy_profile()\n",
    "        for i in xrange(len(profile)):\n",
    "            profile[i] = freqs[i]\n",
    "        qre = gambit.nash.logit_estimate(profile)\n",
    "        logL = numpy.dot(numpy.array(list(freqs)), numpy.log(list(qre.profile)))\n",
    "        return logL\n",
    "    results = [ (x0, log_like(x0))\n",
    "                for x0 in numpy.linspace(0.01, 0.99, 100) ]\n",
    "    results.sort(key=lambda r: -r[1])\n",
    "    return results[0][0]"
   ]
  },
  {
   "cell_type": "code",
   "execution_count": 45,
   "metadata": {
    "collapsed": false
   },
   "outputs": [],
   "source": [
    "def estimate_payoff_method(freqs):\n",
    "    def log_like(freqs, values, lam):\n",
    "        logit_probs = [ [ math.exp(lam*v) for v in player ] for player in values ]\n",
    "        sums = [ sum(v) for v in logit_probs ]\n",
    "        logit_probs = [ [ v/s for v in vv ]\n",
    "                          for (vv, s) in zip(logit_probs, sums) ]\n",
    "        logit_probs = [ v for player in logit_probs for v in player ]\n",
    "        logit_probs = [ max(v, 1.0e-293) for v in logit_probs ]\n",
    "        return sum([ f*math.log(p) for (f, p) in zip(list(freqs), logit_probs) ])\n",
    "    p = freqs.copy()\n",
    "    p.normalize()\n",
    "    v = p.strategy_values()\n",
    "    res = scipy.optimize.minimize(lambda x: -log_like(freqs, v, x[0]), (0.1,),\n",
    "                                  bounds=((0.0, 10.0),))\n",
    "    return log_like(freqs, v, res.x[0])\n",
    "\n",
    "def estimate_risk_payoff_method(matrix1, matrix2, freqs):\n",
    "    def log_like(r):\n",
    "        tm1 = transform_matrix(matrix1, r)\n",
    "        tm2 = transform_matrix(matrix2, r)\n",
    "        g = gambit.Game.from_arrays(tm1, tm2)\n",
    "        profile = g.mixed_strategy_profile()\n",
    "        for i in xrange(len(profile)):\n",
    "            profile[i] = freqs[i]\n",
    "        logL = estimate_payoff_method(profile)\n",
    "        return logL\n",
    "    results = [ (x0, log_like(x0))\n",
    "                for x0 in numpy.linspace(0.01, 0.99, 100) ]\n",
    "    results.sort(key=lambda r: -r[1])\n",
    "    return results[0][0]"
   ]
  },
  {
   "cell_type": "markdown",
   "metadata": {},
   "source": [
    "This is a variation on the simulator driver, where we will focus on collecting statistics on the risk aversion parameters estimated."
   ]
  },
  {
   "cell_type": "code",
   "execution_count": 46,
   "metadata": {
    "collapsed": true
   },
   "outputs": [],
   "source": [
    "def simulate_fits(game, matrix1, matrix2, r, lam, N, trials=100):\n",
    "    qre = gambit.nash.logit_atlambda(game, lam).profile\n",
    "    samples = [ ]\n",
    "    for sample in xrange(trials):\n",
    "        f = game.mixed_strategy_profile()\n",
    "        for player in game.players:\n",
    "            f[player] = numpy.random.multinomial(N, qre[player], size=1)[0]\n",
    "        samples.append(f)\n",
    "    labels = [ \"p%ds%d\" % (i, j)\n",
    "               for (i, player) in enumerate(game.players)\n",
    "               for (j, strategy) in enumerate(player.strategies) ]\n",
    "    return pandas.DataFrame([ list(freqs) +\n",
    "                              [ estimate_risk_fixedpoint_method(matrix1, matrix2, freqs),\n",
    "                                estimate_risk_payoff_method(matrix1, matrix2, freqs),\n",
    "                                r ]\n",
    "                              for freqs in samples ],\n",
    "                            columns=labels + [ 'r_fixedpoint', 'r_payoff', 'actual' ])"
   ]
  },
  {
   "cell_type": "markdown",
   "metadata": {},
   "source": [
    "GHP02 report a risk aversion parameter estimate of $r=0.44$ for this game, so we adopt this as the true value.  Likewise, they report a logit parameter estimate of $\\frac{1}{\\lambda}=0.150$ which we use as the parameter for the data generating process in the simulation."
   ]
  },
  {
   "cell_type": "code",
   "execution_count": 47,
   "metadata": {
    "collapsed": true
   },
   "outputs": [],
   "source": [
    "game = gambit.Game.from_arrays(transform_matrix(matrix1, gambit.Decimal(\"0.44\")),\n",
    "                               transform_matrix(matrix2, gambit.Decimal(\"0.44\")))"
   ]
  },
  {
   "cell_type": "code",
   "execution_count": 48,
   "metadata": {
    "collapsed": false
   },
   "outputs": [
    {
     "data": {
      "text/html": [
       "<div>\n",
       "<table border=\"1\" class=\"dataframe\">\n",
       "  <thead>\n",
       "    <tr style=\"text-align: right;\">\n",
       "      <th></th>\n",
       "      <th>p0s0</th>\n",
       "      <th>p0s1</th>\n",
       "      <th>p1s0</th>\n",
       "      <th>p1s1</th>\n",
       "      <th>r_fixedpoint</th>\n",
       "      <th>r_payoff</th>\n",
       "      <th>actual</th>\n",
       "    </tr>\n",
       "  </thead>\n",
       "  <tbody>\n",
       "    <tr>\n",
       "      <th>0</th>\n",
       "      <td>40</td>\n",
       "      <td>60</td>\n",
       "      <td>67</td>\n",
       "      <td>33</td>\n",
       "      <td>0.485152</td>\n",
       "      <td>0.504949</td>\n",
       "      <td>0.44</td>\n",
       "    </tr>\n",
       "    <tr>\n",
       "      <th>1</th>\n",
       "      <td>49</td>\n",
       "      <td>51</td>\n",
       "      <td>70</td>\n",
       "      <td>30</td>\n",
       "      <td>0.613838</td>\n",
       "      <td>0.613838</td>\n",
       "      <td>0.44</td>\n",
       "    </tr>\n",
       "    <tr>\n",
       "      <th>2</th>\n",
       "      <td>35</td>\n",
       "      <td>65</td>\n",
       "      <td>69</td>\n",
       "      <td>31</td>\n",
       "      <td>0.564343</td>\n",
       "      <td>0.574242</td>\n",
       "      <td>0.44</td>\n",
       "    </tr>\n",
       "    <tr>\n",
       "      <th>3</th>\n",
       "      <td>56</td>\n",
       "      <td>44</td>\n",
       "      <td>68</td>\n",
       "      <td>32</td>\n",
       "      <td>0.910808</td>\n",
       "      <td>0.910808</td>\n",
       "      <td>0.44</td>\n",
       "    </tr>\n",
       "    <tr>\n",
       "      <th>4</th>\n",
       "      <td>48</td>\n",
       "      <td>52</td>\n",
       "      <td>62</td>\n",
       "      <td>38</td>\n",
       "      <td>0.376263</td>\n",
       "      <td>0.376263</td>\n",
       "      <td>0.44</td>\n",
       "    </tr>\n",
       "    <tr>\n",
       "      <th>5</th>\n",
       "      <td>51</td>\n",
       "      <td>49</td>\n",
       "      <td>64</td>\n",
       "      <td>36</td>\n",
       "      <td>0.504949</td>\n",
       "      <td>0.504949</td>\n",
       "      <td>0.44</td>\n",
       "    </tr>\n",
       "    <tr>\n",
       "      <th>6</th>\n",
       "      <td>47</td>\n",
       "      <td>53</td>\n",
       "      <td>67</td>\n",
       "      <td>33</td>\n",
       "      <td>0.495051</td>\n",
       "      <td>0.495051</td>\n",
       "      <td>0.44</td>\n",
       "    </tr>\n",
       "    <tr>\n",
       "      <th>7</th>\n",
       "      <td>56</td>\n",
       "      <td>44</td>\n",
       "      <td>68</td>\n",
       "      <td>32</td>\n",
       "      <td>0.910808</td>\n",
       "      <td>0.910808</td>\n",
       "      <td>0.44</td>\n",
       "    </tr>\n",
       "    <tr>\n",
       "      <th>8</th>\n",
       "      <td>52</td>\n",
       "      <td>48</td>\n",
       "      <td>70</td>\n",
       "      <td>30</td>\n",
       "      <td>0.702929</td>\n",
       "      <td>0.702929</td>\n",
       "      <td>0.44</td>\n",
       "    </tr>\n",
       "    <tr>\n",
       "      <th>9</th>\n",
       "      <td>33</td>\n",
       "      <td>67</td>\n",
       "      <td>69</td>\n",
       "      <td>31</td>\n",
       "      <td>0.584141</td>\n",
       "      <td>0.594040</td>\n",
       "      <td>0.44</td>\n",
       "    </tr>\n",
       "    <tr>\n",
       "      <th>10</th>\n",
       "      <td>50</td>\n",
       "      <td>50</td>\n",
       "      <td>67</td>\n",
       "      <td>33</td>\n",
       "      <td>0.554444</td>\n",
       "      <td>0.554444</td>\n",
       "      <td>0.44</td>\n",
       "    </tr>\n",
       "    <tr>\n",
       "      <th>11</th>\n",
       "      <td>39</td>\n",
       "      <td>61</td>\n",
       "      <td>69</td>\n",
       "      <td>31</td>\n",
       "      <td>0.524747</td>\n",
       "      <td>0.544545</td>\n",
       "      <td>0.44</td>\n",
       "    </tr>\n",
       "    <tr>\n",
       "      <th>12</th>\n",
       "      <td>50</td>\n",
       "      <td>50</td>\n",
       "      <td>67</td>\n",
       "      <td>33</td>\n",
       "      <td>0.554444</td>\n",
       "      <td>0.554444</td>\n",
       "      <td>0.44</td>\n",
       "    </tr>\n",
       "    <tr>\n",
       "      <th>13</th>\n",
       "      <td>49</td>\n",
       "      <td>51</td>\n",
       "      <td>62</td>\n",
       "      <td>38</td>\n",
       "      <td>0.396061</td>\n",
       "      <td>0.396061</td>\n",
       "      <td>0.44</td>\n",
       "    </tr>\n",
       "    <tr>\n",
       "      <th>14</th>\n",
       "      <td>54</td>\n",
       "      <td>46</td>\n",
       "      <td>64</td>\n",
       "      <td>36</td>\n",
       "      <td>0.663333</td>\n",
       "      <td>0.663333</td>\n",
       "      <td>0.44</td>\n",
       "    </tr>\n",
       "    <tr>\n",
       "      <th>15</th>\n",
       "      <td>45</td>\n",
       "      <td>55</td>\n",
       "      <td>67</td>\n",
       "      <td>33</td>\n",
       "      <td>0.485152</td>\n",
       "      <td>0.485152</td>\n",
       "      <td>0.44</td>\n",
       "    </tr>\n",
       "    <tr>\n",
       "      <th>16</th>\n",
       "      <td>51</td>\n",
       "      <td>49</td>\n",
       "      <td>62</td>\n",
       "      <td>38</td>\n",
       "      <td>0.445556</td>\n",
       "      <td>0.445556</td>\n",
       "      <td>0.44</td>\n",
       "    </tr>\n",
       "    <tr>\n",
       "      <th>17</th>\n",
       "      <td>42</td>\n",
       "      <td>58</td>\n",
       "      <td>71</td>\n",
       "      <td>29</td>\n",
       "      <td>0.564343</td>\n",
       "      <td>0.574242</td>\n",
       "      <td>0.44</td>\n",
       "    </tr>\n",
       "    <tr>\n",
       "      <th>18</th>\n",
       "      <td>46</td>\n",
       "      <td>54</td>\n",
       "      <td>69</td>\n",
       "      <td>31</td>\n",
       "      <td>0.534646</td>\n",
       "      <td>0.534646</td>\n",
       "      <td>0.44</td>\n",
       "    </tr>\n",
       "    <tr>\n",
       "      <th>19</th>\n",
       "      <td>45</td>\n",
       "      <td>55</td>\n",
       "      <td>62</td>\n",
       "      <td>38</td>\n",
       "      <td>0.366364</td>\n",
       "      <td>0.366364</td>\n",
       "      <td>0.44</td>\n",
       "    </tr>\n",
       "    <tr>\n",
       "      <th>20</th>\n",
       "      <td>48</td>\n",
       "      <td>52</td>\n",
       "      <td>67</td>\n",
       "      <td>33</td>\n",
       "      <td>0.514848</td>\n",
       "      <td>0.514848</td>\n",
       "      <td>0.44</td>\n",
       "    </tr>\n",
       "    <tr>\n",
       "      <th>21</th>\n",
       "      <td>48</td>\n",
       "      <td>52</td>\n",
       "      <td>66</td>\n",
       "      <td>34</td>\n",
       "      <td>0.485152</td>\n",
       "      <td>0.485152</td>\n",
       "      <td>0.44</td>\n",
       "    </tr>\n",
       "    <tr>\n",
       "      <th>22</th>\n",
       "      <td>53</td>\n",
       "      <td>47</td>\n",
       "      <td>71</td>\n",
       "      <td>29</td>\n",
       "      <td>0.772222</td>\n",
       "      <td>0.772222</td>\n",
       "      <td>0.44</td>\n",
       "    </tr>\n",
       "    <tr>\n",
       "      <th>23</th>\n",
       "      <td>48</td>\n",
       "      <td>52</td>\n",
       "      <td>74</td>\n",
       "      <td>26</td>\n",
       "      <td>0.702929</td>\n",
       "      <td>0.702929</td>\n",
       "      <td>0.44</td>\n",
       "    </tr>\n",
       "    <tr>\n",
       "      <th>24</th>\n",
       "      <td>41</td>\n",
       "      <td>59</td>\n",
       "      <td>60</td>\n",
       "      <td>40</td>\n",
       "      <td>0.346566</td>\n",
       "      <td>0.356465</td>\n",
       "      <td>0.44</td>\n",
       "    </tr>\n",
       "    <tr>\n",
       "      <th>25</th>\n",
       "      <td>55</td>\n",
       "      <td>45</td>\n",
       "      <td>65</td>\n",
       "      <td>35</td>\n",
       "      <td>0.772222</td>\n",
       "      <td>0.772222</td>\n",
       "      <td>0.44</td>\n",
       "    </tr>\n",
       "    <tr>\n",
       "      <th>26</th>\n",
       "      <td>43</td>\n",
       "      <td>57</td>\n",
       "      <td>68</td>\n",
       "      <td>32</td>\n",
       "      <td>0.495051</td>\n",
       "      <td>0.504949</td>\n",
       "      <td>0.44</td>\n",
       "    </tr>\n",
       "    <tr>\n",
       "      <th>27</th>\n",
       "      <td>43</td>\n",
       "      <td>57</td>\n",
       "      <td>62</td>\n",
       "      <td>38</td>\n",
       "      <td>0.366364</td>\n",
       "      <td>0.376263</td>\n",
       "      <td>0.44</td>\n",
       "    </tr>\n",
       "    <tr>\n",
       "      <th>28</th>\n",
       "      <td>43</td>\n",
       "      <td>57</td>\n",
       "      <td>62</td>\n",
       "      <td>38</td>\n",
       "      <td>0.366364</td>\n",
       "      <td>0.376263</td>\n",
       "      <td>0.44</td>\n",
       "    </tr>\n",
       "    <tr>\n",
       "      <th>29</th>\n",
       "      <td>39</td>\n",
       "      <td>61</td>\n",
       "      <td>65</td>\n",
       "      <td>35</td>\n",
       "      <td>0.455455</td>\n",
       "      <td>0.465354</td>\n",
       "      <td>0.44</td>\n",
       "    </tr>\n",
       "  </tbody>\n",
       "</table>\n",
       "</div>"
      ],
      "text/plain": [
       "    p0s0  p0s1  p1s0  p1s1  r_fixedpoint  r_payoff  actual\n",
       "0     40    60    67    33      0.485152  0.504949    0.44\n",
       "1     49    51    70    30      0.613838  0.613838    0.44\n",
       "2     35    65    69    31      0.564343  0.574242    0.44\n",
       "3     56    44    68    32      0.910808  0.910808    0.44\n",
       "4     48    52    62    38      0.376263  0.376263    0.44\n",
       "5     51    49    64    36      0.504949  0.504949    0.44\n",
       "6     47    53    67    33      0.495051  0.495051    0.44\n",
       "7     56    44    68    32      0.910808  0.910808    0.44\n",
       "8     52    48    70    30      0.702929  0.702929    0.44\n",
       "9     33    67    69    31      0.584141  0.594040    0.44\n",
       "10    50    50    67    33      0.554444  0.554444    0.44\n",
       "11    39    61    69    31      0.524747  0.544545    0.44\n",
       "12    50    50    67    33      0.554444  0.554444    0.44\n",
       "13    49    51    62    38      0.396061  0.396061    0.44\n",
       "14    54    46    64    36      0.663333  0.663333    0.44\n",
       "15    45    55    67    33      0.485152  0.485152    0.44\n",
       "16    51    49    62    38      0.445556  0.445556    0.44\n",
       "17    42    58    71    29      0.564343  0.574242    0.44\n",
       "18    46    54    69    31      0.534646  0.534646    0.44\n",
       "19    45    55    62    38      0.366364  0.366364    0.44\n",
       "20    48    52    67    33      0.514848  0.514848    0.44\n",
       "21    48    52    66    34      0.485152  0.485152    0.44\n",
       "22    53    47    71    29      0.772222  0.772222    0.44\n",
       "23    48    52    74    26      0.702929  0.702929    0.44\n",
       "24    41    59    60    40      0.346566  0.356465    0.44\n",
       "25    55    45    65    35      0.772222  0.772222    0.44\n",
       "26    43    57    68    32      0.495051  0.504949    0.44\n",
       "27    43    57    62    38      0.366364  0.376263    0.44\n",
       "28    43    57    62    38      0.366364  0.376263    0.44\n",
       "29    39    61    65    35      0.455455  0.465354    0.44"
      ]
     },
     "execution_count": 48,
     "metadata": {},
     "output_type": "execute_result"
    }
   ],
   "source": [
    "simdata = simulate_fits(game, matrix1, matrix2, 0.44, 1.0/0.150, 100, trials=30)\n",
    "simdata"
   ]
  },
  {
   "cell_type": "code",
   "execution_count": 49,
   "metadata": {
    "collapsed": false
   },
   "outputs": [
    {
     "data": {
      "text/plain": [
       "count    30.000000\n",
       "mean      0.550485\n",
       "std       0.151260\n",
       "min       0.346566\n",
       "25%       0.462879\n",
       "50%       0.519798\n",
       "75%       0.606414\n",
       "max       0.910808\n",
       "Name: r_fixedpoint, dtype: float64"
      ]
     },
     "execution_count": 49,
     "metadata": {},
     "output_type": "execute_result"
    }
   ],
   "source": [
    "simdata.r_fixedpoint.describe()"
   ]
  },
  {
   "cell_type": "code",
   "execution_count": 50,
   "metadata": {
    "collapsed": false
   },
   "outputs": [
    {
     "data": {
      "text/plain": [
       "count    30.000000\n",
       "mean      0.554444\n",
       "std       0.149471\n",
       "min       0.356465\n",
       "25%       0.470303\n",
       "50%       0.524747\n",
       "75%       0.608889\n",
       "max       0.910808\n",
       "Name: r_payoff, dtype: float64"
      ]
     },
     "execution_count": 50,
     "metadata": {},
     "output_type": "execute_result"
    }
   ],
   "source": [
    "simdata.r_payoff.describe()"
   ]
  },
  {
   "cell_type": "markdown",
   "metadata": {},
   "source": [
    "## (Tentative) conclusions\n",
    "\n",
    "* The payoff-based approach to estimating QRE is attractive and offers hope of fitting much richer models.\n",
    "* Preliminary indications are that estimated QRE parameters $\\hat\\lambda$ obtained by using the payoff method are biased (in the direction of understating precision), so these should be used with care in small samples.\n",
    "* At least in the generalized matching pennies game, the bias in $\\hat\\lambda$ does not seem to result in any bias in risk attitude estimates."
   ]
  },
  {
   "cell_type": "code",
   "execution_count": null,
   "metadata": {
    "collapsed": true
   },
   "outputs": [],
   "source": []
  }
 ],
 "metadata": {
  "kernelspec": {
   "display_name": "Python 2",
   "language": "python",
   "name": "python2"
  },
  "language_info": {
   "codemirror_mode": {
    "name": "ipython",
    "version": 2
   },
   "file_extension": ".py",
   "mimetype": "text/x-python",
   "name": "python",
   "nbconvert_exporter": "python",
   "pygments_lexer": "ipython2",
   "version": "2.7.12"
  }
 },
 "nbformat": 4,
 "nbformat_minor": 0
}
